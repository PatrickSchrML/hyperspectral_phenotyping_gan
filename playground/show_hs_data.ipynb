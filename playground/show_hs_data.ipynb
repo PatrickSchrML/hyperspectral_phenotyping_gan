{
 "cells": [
  {
   "cell_type": "code",
   "execution_count": null,
   "metadata": {
    "collapsed": true
   },
   "outputs": [],
   "source": [
    "from spectral import *\n",
    "import scipy.io as sio\n",
    "import numpy as np"
   ]
  },
  {
   "cell_type": "code",
   "execution_count": null,
   "metadata": {},
   "outputs": [],
   "source": [
    "data_mirwaes = sio.loadmat('/home/patrick/repositories/datasets/mirwaes/cerc15dai175.mat')\n",
    "dim = data_mirwaes[\"dim\"].reshape(-1)\n",
    "input_image = data_mirwaes['counts'].T\n",
    "input_image = np.reshape(input_image, newshape=[123, 147, 160])"
   ]
  },
  {
   "cell_type": "code",
   "execution_count": null,
   "metadata": {},
   "outputs": [],
   "source": [
    "#input_image = input_image.astype(float)\n",
    "#input_image -= np.min(input_image)\n",
    "#input_image /= np.max(input_image)"
   ]
  },
  {
   "cell_type": "code",
   "execution_count": null,
   "metadata": {},
   "outputs": [],
   "source": [
    "view_mirwaes = imshow(input_image, (29, 19, 9))"
   ]
  },
  {
   "cell_type": "code",
   "execution_count": null,
   "metadata": {},
   "outputs": [],
   "source": [
    "\"\"\"\n",
    "path_day1_1 = '/media/disk2/datasets/hyperspectral_data_anna_bonn/Tag1_KeinNaCL_20gl_80gl/VNIRHyperspecCamera_G4_447/Tag1_KeinNaCL_20gl_80gl_2018_05_15_12_14_08/raw_norm.hdr'\n",
    "path_day1_2 = '/media/disk2/datasets/hyperspectral_data_anna_bonn/Tag1_KeinNaCL_20gpl_80gpl/VNIRHyperspecCamera_G4_447/Tag1_KeinNaCL_20gpl_80gpl_2018_05_15_10_20_33/raw_norm.hdr'\n",
    "\n",
    "path_day2_1 = '/media/disk2/datasets/hyperspectral_data_anna_bonn/Tag2_keinNaCl_20gpl_80gpl/VNIRHyperspecCamera_G4_447/Tag2_keinNaCl_20gpl_80gpl_2018_05_16_10_28_54/raw_norm.hdr'\n",
    "path_day2_2 = '/media/disk2/datasets/hyperspectral_data_anna_bonn/Tag2_keinNaCl_20gpl_80gpl/VNIRHyperspecCamera_G4_447/Tag2_keinNaCl_20gpl_80gpl_2018_05_16_11_37_12/raw_norm.hdr'\n",
    "\n",
    "path_day3_1 = '/media/disk2/datasets/hyperspectral_data_anna_bonn/Tag3_keinNaCl_20mgpl_80mgpl/VNIRHyperspecCamera_G4_447/Tag3_keinNaCl_20mgpl_80mgpl_2018_05_17_10_17_40/raw_norm.hdr'\n",
    "path_day3_2 = '/media/disk2/datasets/hyperspectral_data_anna_bonn/Tag3_keinNaCl_20mgpl_80mgpl/VNIRHyperspecCamera_G4_447/Tag3_keinNaCl_20mgpl_80mgpl_2018_05_17_11_26_55/raw_norm.hdr'\n",
    "\n",
    "path_day4_1 = '/media/disk2/datasets/hyperspectral_data_anna_bonn/Tag4_keinNaCll_20gpl_80gpl/VNIRHyperspecCamera_G4_447/Tag4_keinNaCll_20gpl_80gpl_2018_05_18_09_28_54/raw_norm.hdr'\n",
    "path_day4_2 = '/media/disk2/datasets/hyperspectral_data_anna_bonn/Tag4_keinNaCll_20gpl_80gpl/VNIRHyperspecCamera_G4_447/Tag4_keinNaCll_20gpl_80gpl_2018_05_18_10_29_48/raw_norm.hdr'\n",
    "\n",
    "\n",
    "\n",
    "img1_1 = open_image(path_day1_1)\n",
    "img1_2 = open_image(path_day1_2)\n",
    "\n",
    "img2_1 = open_image(path_day2_1)\n",
    "img2_2 = open_image(path_day2_2)\n",
    "\n",
    "img3_1 = open_image(path_day3_1)\n",
    "img3_2 = open_image(path_day3_2)\n",
    "\n",
    "img4_1 = open_image(path_day4_1)\n",
    "img4_2 = open_image(path_day4_2)\n",
    "\n",
    "\n",
    "\n",
    "view = imshow(img1_1, (514, 248, 155))\n",
    "\n",
    "\"\"\""
   ]
  },
  {
   "cell_type": "code",
   "execution_count": null,
   "metadata": {},
   "outputs": [],
   "source": [
    "\"\"\"\n",
    "path_day1_1 = '/media/disk2/datasets/hyperspectral_data_anna_bonn/Tag1_KeinNaCL_20gl_80gl/UVHyperspecCamera_G4_419/Tag1_KeinNaCL_20gl_80gl_2018_05_15_12_04_12/raw_norm.hdr'\n",
    "path_day1_2 = '/media/disk2/datasets/hyperspectral_data_anna_bonn/Tag1_KeinNaCL_20gpl_80gpl/UVHyperspecCamera_G4_419/Tag1_KeinNaCL_20gpl_80gpl_2018_05_15_09_56_53/raw_norm.hdr'\n",
    "\n",
    "path_day2_1 = '/media/disk2/datasets/hyperspectral_data_anna_bonn/Tag2_keinNaCl_20gpl_80gpl/UVHyperspecCamera_G4_419/Tag2_keinNaCl_20gpl_80gpl_2018_05_16_10_18_59/raw_norm.hdr'\n",
    "path_day2_2 = '/media/disk2/datasets/hyperspectral_data_anna_bonn/Tag2_keinNaCl_20gpl_80gpl/UVHyperspecCamera_G4_419/Tag2_keinNaCl_20gpl_80gpl_2018_05_16_11_27_17/raw_norm.hdr'\n",
    "\n",
    "path_day3_1 = '/media/disk2/datasets/hyperspectral_data_anna_bonn/Tag3_keinNaCl_20mgpl_80mgpl/UVHyperspecCamera_G4_419/Tag3_keinNaCl_20mgpl_80mgpl_2018_05_17_10_07_47/raw_norm.hdr'\n",
    "path_day3_2 = '/media/disk2/datasets/hyperspectral_data_anna_bonn/Tag3_keinNaCl_20mgpl_80mgpl/UVHyperspecCamera_G4_419/Tag3_keinNaCl_20mgpl_80mgpl_2018_05_17_11_17_02/raw_norm.hdr'\n",
    "\n",
    "path_day4_1 = '/media/disk2/datasets/hyperspectral_data_anna_bonn/Tag4_keinNaCll_20gpl_80gpl/UVHyperspecCamera_G4_419/Tag4_keinNaCll_20gpl_80gpl_2018_05_18_09_19_03/raw_norm.hdr'\n",
    "path_day4_2 = '/media/disk2/datasets/hyperspectral_data_anna_bonn/Tag4_keinNaCll_20gpl_80gpl/UVHyperspecCamera_G4_419/Tag4_keinNaCll_20gpl_80gpl_2018_05_18_10_19_57/raw_norm.hdr'\n",
    "\n",
    "\n",
    "\n",
    "img1_1 = open_image(path_day1_1)\n",
    "img1_2 = open_image(path_day1_2)\n",
    "\n",
    "img2_1 = open_image(path_day2_1)\n",
    "img2_2 = open_image(path_day2_2)\n",
    "\n",
    "img3_1 = open_image(path_day3_1)\n",
    "img3_2 = open_image(path_day3_2)\n",
    "\n",
    "img4_1 = open_image(path_day4_1)\n",
    "img4_2 = open_image(path_day4_2)\n",
    "\n",
    "\n",
    "view = imshow(img1_1, (405, 229, 53))\n",
    "\"\"\""
   ]
  },
  {
   "cell_type": "code",
   "execution_count": null,
   "metadata": {},
   "outputs": [],
   "source": [
    "\"\"\"\n",
    "path_healthy = '/home/patrick/repositories/datasets/headwall/Zuckerruebe/gesund/Intensity_Ruebe_5000/Intensity_Ruebe_5000_2017_11_27_16_08data.hdr'\n",
    "\n",
    "img_h = open_image(path_healthy)\n",
    "img_d = open_image(path_diseased)\n",
    "\n",
    "view_h = imshow(img_h, (29, 19, 9))\n",
    "view_d = imshow(img_d, (29, 19, 9))\n",
    "\"\"\""
   ]
  },
  {
   "cell_type": "code",
   "execution_count": null,
   "metadata": {},
   "outputs": [],
   "source": [
    "\"\"\"\n",
    "data_in = sio.loadmat('/home/patrick/repositories/datasets/indian_pines/Indian_pines_corrected.mat')\n",
    "input_image = data_in['indian_pines_corrected']\n",
    "\n",
    "input_image = input_image.astype(float)\n",
    "input_image -= np.min(input_image)\n",
    "input_image /= np.max(input_image)\n",
    "\n",
    "view = imshow(input_image, (29, 19, 9))\n",
    "\"\"\""
   ]
  },
  {
   "cell_type": "code",
   "execution_count": null,
   "metadata": {},
   "outputs": [],
   "source": [
    "# INGRID\n",
    "path_hsi = '/media/disk2/datasets/hyperspectral_data/Ingrid_WT_and_mlo_early/0 hpi/P1-1-0hpi-3_NORM.hdr'\n",
    "path_hsi = '/media/disk2/datasets/hyperspectral_data/Ingrid_WT_and_mlo_early/27 hpi/' + \\\n",
    "           'P5-1-BGH-27hpi-3_NORM.hdr'\n",
    "path_hsi = '/media/disk2/datasets/hyperspectral_data/Ingrid_WT_and_mlo_early/48 hpi/' + \\\n",
    "           'P5-1-BGH-48hpi-3_NORM.hdr'\n",
    "\n",
    "img_hsi = open_image(path_hsi)\n",
    "\n",
    "view_h = imshow(img_hsi, (283, 169, 52))"
   ]
  },
  {
   "cell_type": "code",
   "execution_count": null,
   "metadata": {},
   "outputs": [],
   "source": [
    "path_hsi = '/media/disk2/datasets/hyperspectral_data/Pallas01_early/HSI/Raw images/SG_Processed/' + \\\n",
    "           'P2-2-Bgh-0hai-3_NORMrfl.hdr'\n",
    "path_hsi = '/media/disk2/datasets/hyperspectral_data/Pallas01_early/HSI/Raw images/SG_Processed/' + \\\n",
    "           'P2-2-Bgh-15hai-3_NORMrfl.hdr'\n",
    "path_hsi = '/media/disk2/datasets/hyperspectral_data/Pallas01_early/HSI/Raw images/SG_Processed/' + \\\n",
    "           'P2-2-Bgh-48hai-3_NORMrfl.hdr'\n",
    "\n",
    "img_hsi = open_image(path_hsi)\n",
    "\n",
    "view_h = imshow(img_hsi, (286, 170, 50))"
   ]
  },
  {
   "cell_type": "code",
   "execution_count": null,
   "metadata": {},
   "outputs": [],
   "source": [
    "# UV - UV\n",
    "path_hsi = '/home/patrick/repositories/datasets/neue_hs_daten/UV-Messungen/Tag1_KeinNaCl_20gpl_80gpl_/UVHyperspecCamera_G4_419/Tag1_KeinNaCl_20gpl_80gpl__2018_05_15_13_40_32/' + 'raw.hdr'\n",
    "path_hsi = '/home/patrick/repositories/datasets/neue_hs_daten/UV-Messungen/Tag4_keinNaCll_20gpl_80gpl/UVHyperspecCamera_G4_419/Tag4_keinNaCll_20gpl_80gpl_2018_05_18_09_19_03/' + 'raw.hdr'\n",
    "img_hsi = open_image(path_hsi)\n",
    "\n",
    "view_h = imshow(img_hsi, (405, 229, 53))"
   ]
  },
  {
   "cell_type": "code",
   "execution_count": null,
   "metadata": {},
   "outputs": [],
   "source": [
    "# UV - VIS\n",
    "path_hsi = '/home/patrick/repositories/datasets/neue_hs_daten/UV-Messungen/Tag1_KeinNaCl_20gpl_80gpl_/VNIRHyperspecCamera_G4_447/Tag1_KeinNaCl_20gpl_80gpl__2018_05_15_13_50_28/' + 'raw.hdr'\n",
    "path_hsi = '/home/patrick/repositories/datasets/neue_hs_daten/UV-Messungen/Tag4_keinNaCll_20gpl_80gpl/VNIRHyperspecCamera_G4_447/Tag4_keinNaCll_20gpl_80gpl_2018_05_18_10_29_48/' + 'raw.hdr'\n",
    "img_hsi = open_image(path_hsi)\n",
    "\n",
    "view_h = imshow(img_hsi, (514, 248, 155))"
   ]
  }
 ],
 "metadata": {
  "kernelspec": {
   "display_name": "Python 2",
   "language": "python",
   "name": "python2"
  },
  "language_info": {
   "codemirror_mode": {
    "name": "ipython",
    "version": 2.0
   },
   "file_extension": ".py",
   "mimetype": "text/x-python",
   "name": "python",
   "nbconvert_exporter": "python",
   "pygments_lexer": "ipython2",
   "version": "2.7.6"
  }
 },
 "nbformat": 4,
 "nbformat_minor": 0
}